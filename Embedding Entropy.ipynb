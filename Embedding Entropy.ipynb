{
 "cells": [
  {
   "cell_type": "code",
   "execution_count": 1,
   "id": "a4486820-1d72-4520-b752-482b9e524d19",
   "metadata": {},
   "outputs": [],
   "source": [
    "import itertools\n",
    "import numpy as np\n",
    "\n",
    "import plotly.express as px\n",
    "import plotly.graph_objects as go"
   ]
  },
  {
   "cell_type": "code",
   "execution_count": 2,
   "id": "d296c9d9-8219-456c-93b2-adb0c2343ba2",
   "metadata": {},
   "outputs": [],
   "source": [
    "import weaviate\n",
    "from weaviate.classes.config import Property, DataType, Configure\n",
    "from weaviate import collections as col\n",
    "from weaviate.classes.query import Filter\n",
    "from weaviate.classes.init import AdditionalConfig, Timeout\n",
    "\n",
    "client = weaviate.connect_to_local(\n",
    "    additional_config=AdditionalConfig(\n",
    "        timeout=Timeout(init=20, query=120, insert=120)  # Values in seconds\n",
    "    ))"
   ]
  },
  {
   "cell_type": "markdown",
   "id": "c475e48f-e959-4eff-a220-8c7589f19fc5",
   "metadata": {},
   "source": [
    "# Populate"
   ]
  },
  {
   "cell_type": "markdown",
   "id": "464bf9db-5402-481f-9d83-68bc3a0a8e1a",
   "metadata": {
    "jp-MarkdownHeadingCollapsed": true
   },
   "source": [
    "## Common Words Dataset"
   ]
  },
  {
   "cell_type": "code",
   "execution_count": 122,
   "id": "4e817a52-f281-415d-9ecf-af6ea69b0f55",
   "metadata": {},
   "outputs": [
    {
     "name": "stderr",
     "output_type": "stream",
     "text": [
      "[nltk_data] Downloading package brown to\n",
      "[nltk_data]     C:\\Users\\cdalz\\AppData\\Roaming\\nltk_data...\n",
      "[nltk_data]   Package brown is already up-to-date!\n"
     ]
    }
   ],
   "source": [
    "import nltk\n",
    "from nltk.corpus import brown\n",
    "from collections import Counter\n",
    "\n",
    "# Download the brown corpus if you haven't already\n",
    "nltk.download('brown')\n",
    "\n",
    "# Get words from the Brown corpus\n",
    "words = brown.words()\n",
    "\n",
    "# Count the frequency of each word\n",
    "word_freq = Counter(words)\n",
    "\n",
    "# Get the most common words\n",
    "most_common_words = word_freq.most_common(10000)"
   ]
  },
  {
   "cell_type": "code",
   "execution_count": 123,
   "id": "c59d8171-88e0-4f9c-a6c9-9ebcc70a3b0d",
   "metadata": {
    "scrolled": true
   },
   "outputs": [],
   "source": [
    "word = client.collections.create(\n",
    "    \"Word\",\n",
    "    properties=[\n",
    "        Property(name=\"word\", data_type=DataType.TEXT),\n",
    "    ],\n",
    "    generative_config=Configure().Generative().ollama(api_endpoint=\"http://weaviate_ollama_1:11434\", model= \"llama3\"),\n",
    "    vectorizer_config=Configure().Vectorizer().text2vec_ollama(api_endpoint=\"http://weaviate_ollama_1:11434\")\n",
    ")"
   ]
  },
  {
   "cell_type": "code",
   "execution_count": 128,
   "id": "483a17ed-56bb-4394-88af-e6b2b08365b3",
   "metadata": {},
   "outputs": [
    {
     "name": "stderr",
     "output_type": "stream",
     "text": [
      "100%|██████████| 10000/10000 [13:52<00:00, 12.01it/s]\n"
     ]
    }
   ],
   "source": [
    "import tqdm\n",
    "\n",
    "with word.batch.dynamic() as batch:\n",
    "    for w, _ in tqdm.tqdm(most_common_words):\n",
    "        batch.add_object(\n",
    "            properties={\n",
    "        \"word\": w\n",
    "    }\n",
    "        )"
   ]
  },
  {
   "cell_type": "markdown",
   "id": "7a5f6128-e429-4558-bf46-a4f7e4db47f9",
   "metadata": {
    "jp-MarkdownHeadingCollapsed": true
   },
   "source": [
    "## ML Paper Dataset"
   ]
  },
  {
   "cell_type": "code",
   "execution_count": 78,
   "id": "2663fb94-6019-4c99-b9d3-2b550ccfbe39",
   "metadata": {},
   "outputs": [],
   "source": [
    "from datasets import load_dataset"
   ]
  },
  {
   "cell_type": "code",
   "execution_count": 93,
   "id": "64a6c846-9169-463e-9e0c-5140d7015c88",
   "metadata": {},
   "outputs": [
    {
     "data": {
      "application/vnd.jupyter.widget-view+json": {
       "model_id": "82e9f5ce996a46788603a7ba1271bf95",
       "version_major": 2,
       "version_minor": 0
      },
      "text/plain": [
       "Downloading readme:   0%|          | 0.00/986 [00:00<?, ?B/s]"
      ]
     },
     "metadata": {},
     "output_type": "display_data"
    },
    {
     "data": {
      "application/vnd.jupyter.widget-view+json": {
       "model_id": "ee09148bd50241fc84d1920c4aa6b288",
       "version_major": 2,
       "version_minor": 0
      },
      "text/plain": [
       "Downloading data:   0%|          | 0.00/147M [00:00<?, ?B/s]"
      ]
     },
     "metadata": {},
     "output_type": "display_data"
    },
    {
     "data": {
      "application/vnd.jupyter.widget-view+json": {
       "model_id": "b40f1748bc8f4406861319b8190c87f6",
       "version_major": 2,
       "version_minor": 0
      },
      "text/plain": [
       "Generating train split:   0%|          | 0/117592 [00:00<?, ? examples/s]"
      ]
     },
     "metadata": {},
     "output_type": "display_data"
    },
    {
     "name": "stderr",
     "output_type": "stream",
     "text": [
      "C:\\Users\\cdalz\\src\\repositories\\weaviate_verba\\.venv\\Lib\\site-packages\\pandas\\io\\common.py:141: ResourceWarning:\n",
      "\n",
      "unclosed file <_io.BufferedReader name='C:\\\\Users\\\\cdalz\\\\.cache\\\\huggingface\\\\datasets\\\\downloads\\\\3f6f69cdd892afd03084d260fe5678f805316cdbfde216136f7d390a95b3cae8'>\n",
      "\n"
     ]
    }
   ],
   "source": [
    "dataset = load_dataset(\"CShorten/ML-ArXiv-Papers\")"
   ]
  },
  {
   "cell_type": "code",
   "execution_count": 117,
   "id": "9f7dae49-37af-4f02-9b92-a79943ebea06",
   "metadata": {},
   "outputs": [
    {
     "name": "stdout",
     "output_type": "stream",
     "text": [
      "  Max-product belief propagation is a local, iterative algorithm to find the\n",
      "mode/MAP estimate of a probability distribution. While it has been successfully\n",
      "employed in a wide variety of applications, there are relatively few\n",
      "theoretical guarantees of convergence and correctness for general loopy graphs\n",
      "that may have many short cycles. Of these, even fewer provide exact ``necessary\n",
      "and sufficient'' characterizations.\n",
      "  In this paper we investigate the problem of using max-product to find the\n",
      "maximum weight matching in an arbitrary graph with edge weights. This is done\n",
      "by first constructing a probability distribution whose mode corresponds to the\n",
      "optimal matching, and then running max-product. Weighted matching can also be\n",
      "posed as an integer program, for which there is an LP relaxation. This\n",
      "relaxation is not always tight. In this paper we show that \\begin{enumerate}\n",
      "\\item If the LP relaxation is tight, then max-product always converges, and\n",
      "that too to the correct answer. \\item If the LP relaxation is loose, then\n",
      "max-product does not converge. \\end{enumerate} This provides an exact,\n",
      "data-dependent characterization of max-product performance, and a precise\n",
      "connection to LP relaxation, which is a well-studied optimization technique.\n",
      "Also, since LP relaxation is known to be tight for bipartite graphs, our\n",
      "results generalize other recent results on using max-product to find weighted\n",
      "matchings in bipartite graphs.\n",
      "\n"
     ]
    }
   ],
   "source": [
    "print(str(dataset.data[\"train\"][\"abstract\"][9]))"
   ]
  },
  {
   "cell_type": "code",
   "execution_count": 119,
   "id": "914e00fd-9884-44ed-858a-3159953ed919",
   "metadata": {},
   "outputs": [
    {
     "data": {
      "text/plain": [
       "117592"
      ]
     },
     "execution_count": 119,
     "metadata": {},
     "output_type": "execute_result"
    }
   ],
   "source": [
    "len(dataset.data[\"train\"][\"title\"])"
   ]
  },
  {
   "cell_type": "code",
   "execution_count": 113,
   "id": "1d106f1d-ed57-4fbf-9712-8beb106fd8ab",
   "metadata": {
    "scrolled": true
   },
   "outputs": [],
   "source": [
    "paper = client.collections.create(\n",
    "    \"Paper\",\n",
    "    properties=[\n",
    "        Property(name=\"title\", data_type=DataType.TEXT),\n",
    "        Property(name=\"body\", data_type=DataType.TEXT),\n",
    "    ],\n",
    "    generative_config=Configure().Generative().ollama(api_endpoint=\"http://weaviate_ollama_1:11434\", model= \"llama3\"),\n",
    "    vectorizer_config=Configure().Vectorizer().text2vec_ollama(api_endpoint=\"http://weaviate_ollama_1:11434\")\n",
    ")"
   ]
  },
  {
   "cell_type": "raw",
   "id": "200cba2a-9d19-476f-bc3f-3b7d10d22697",
   "metadata": {},
   "source": [
    "client.collections.delete(\"Paper\")"
   ]
  },
  {
   "cell_type": "code",
   "execution_count": 143,
   "id": "b1a9cbec-78c3-480c-909f-a137e82edaec",
   "metadata": {},
   "outputs": [
    {
     "name": "stderr",
     "output_type": "stream",
     "text": [
      "100%|██████████| 117592/117592 [3:01:09<00:00, 10.82it/s] \n"
     ]
    }
   ],
   "source": [
    "import tqdm\n",
    "\n",
    "with paper.batch.dynamic() as batch:\n",
    "    for t, a in tqdm.tqdm(zip(dataset.data[\"train\"][\"title\"], dataset.data[\"train\"][\"abstract\"]), total=len(dataset.data[\"train\"][\"title\"])):\n",
    "        batch.add_object(\n",
    "            properties={\n",
    "        \"title\": str(t),\n",
    "        \"body\": str(a),\n",
    "    }\n",
    "        )"
   ]
  },
  {
   "cell_type": "markdown",
   "id": "56277ae0-d5c3-47c6-b6bf-aff3298c90e5",
   "metadata": {},
   "source": [
    "# Delete"
   ]
  },
  {
   "cell_type": "raw",
   "id": "d14ac9b2-ed4d-40bd-b617-e8dab46a74bd",
   "metadata": {},
   "source": [
    "for obj in paper.iterator():\n",
    "    paper.data.delete_by_id(obj.uuid)"
   ]
  },
  {
   "cell_type": "raw",
   "id": "5551ad56-7a9f-44a0-b3df-b5299a183a0a",
   "metadata": {},
   "source": [
    "for obj in word.iterator():\n",
    "    word.data.delete_by_id(obj.uuid)"
   ]
  },
  {
   "cell_type": "raw",
   "id": "dfeb3a66-2003-4c88-bb3e-72d475fa181c",
   "metadata": {},
   "source": [
    "client.collections.delete(\"Paper\")"
   ]
  },
  {
   "cell_type": "raw",
   "id": "e2d45d91-8370-4194-a939-04fef1442719",
   "metadata": {},
   "source": [
    "client.collections.delete(\"Word\")"
   ]
  },
  {
   "cell_type": "markdown",
   "id": "9bae2d8d-5656-4882-ae2b-51a2ff47630d",
   "metadata": {},
   "source": [
    "# Vectors"
   ]
  },
  {
   "cell_type": "code",
   "execution_count": 3,
   "id": "2a25692d-ae86-4243-b83f-63795f9cf8f0",
   "metadata": {},
   "outputs": [],
   "source": [
    "paper = client.collections.get(\"Paper\")"
   ]
  },
  {
   "cell_type": "code",
   "execution_count": 4,
   "id": "a4a6410a-93ed-4d0a-9035-f00c1e96ca72",
   "metadata": {},
   "outputs": [],
   "source": [
    "word = client.collections.get(\"Word\")"
   ]
  },
  {
   "cell_type": "code",
   "execution_count": 5,
   "id": "53a209c9-59bf-4fc1-853b-a181f41e537f",
   "metadata": {},
   "outputs": [],
   "source": [
    "n_samples = 10000\n",
    "vs = np.zeros((n_samples, 768))\n",
    "obj_properties = []\n",
    "for i, p in enumerate(paper.iterator(include_vector=True)):  # take n_samples from paper dataset\n",
    "    vs[i] = p.vector[\"default\"]\n",
    "    obj_properties.append(p.properties)\n",
    "    if i == n_samples - 1:\n",
    "        break"
   ]
  },
  {
   "cell_type": "code",
   "execution_count": 6,
   "id": "3f796f0e-be40-437f-b545-54f0b8af4ee9",
   "metadata": {},
   "outputs": [],
   "source": [
    "n_samples = 10000\n",
    "wvs = np.zeros((n_samples, 768))\n",
    "most_common_words = []\n",
    "for i, w in enumerate(word.iterator(include_vector=True)):  # take n_samples from paper dataset\n",
    "    wvs[i] = w.vector[\"default\"]\n",
    "    most_common_words.append(w.properties[\"word\"])\n",
    "    if i == n_samples - 1:\n",
    "        break\n",
    "most_common_words = np.array(most_common_words)"
   ]
  },
  {
   "cell_type": "markdown",
   "id": "a64d7abb-1403-4636-b328-a2710dfd6181",
   "metadata": {},
   "source": [
    "## PCA"
   ]
  },
  {
   "cell_type": "code",
   "execution_count": 7,
   "id": "750f3062-fbd6-472b-abe6-74e65ca14f02",
   "metadata": {},
   "outputs": [],
   "source": [
    "from sklearn.decomposition import PCA"
   ]
  },
  {
   "cell_type": "code",
   "execution_count": 8,
   "id": "b153c5cb-1ea5-4c1f-a420-f7f629e5efb7",
   "metadata": {},
   "outputs": [
    {
     "data": {
      "text/html": [
       "<style>#sk-container-id-1 {\n",
       "  /* Definition of color scheme common for light and dark mode */\n",
       "  --sklearn-color-text: black;\n",
       "  --sklearn-color-line: gray;\n",
       "  /* Definition of color scheme for unfitted estimators */\n",
       "  --sklearn-color-unfitted-level-0: #fff5e6;\n",
       "  --sklearn-color-unfitted-level-1: #f6e4d2;\n",
       "  --sklearn-color-unfitted-level-2: #ffe0b3;\n",
       "  --sklearn-color-unfitted-level-3: chocolate;\n",
       "  /* Definition of color scheme for fitted estimators */\n",
       "  --sklearn-color-fitted-level-0: #f0f8ff;\n",
       "  --sklearn-color-fitted-level-1: #d4ebff;\n",
       "  --sklearn-color-fitted-level-2: #b3dbfd;\n",
       "  --sklearn-color-fitted-level-3: cornflowerblue;\n",
       "\n",
       "  /* Specific color for light theme */\n",
       "  --sklearn-color-text-on-default-background: var(--sg-text-color, var(--theme-code-foreground, var(--jp-content-font-color1, black)));\n",
       "  --sklearn-color-background: var(--sg-background-color, var(--theme-background, var(--jp-layout-color0, white)));\n",
       "  --sklearn-color-border-box: var(--sg-text-color, var(--theme-code-foreground, var(--jp-content-font-color1, black)));\n",
       "  --sklearn-color-icon: #696969;\n",
       "\n",
       "  @media (prefers-color-scheme: dark) {\n",
       "    /* Redefinition of color scheme for dark theme */\n",
       "    --sklearn-color-text-on-default-background: var(--sg-text-color, var(--theme-code-foreground, var(--jp-content-font-color1, white)));\n",
       "    --sklearn-color-background: var(--sg-background-color, var(--theme-background, var(--jp-layout-color0, #111)));\n",
       "    --sklearn-color-border-box: var(--sg-text-color, var(--theme-code-foreground, var(--jp-content-font-color1, white)));\n",
       "    --sklearn-color-icon: #878787;\n",
       "  }\n",
       "}\n",
       "\n",
       "#sk-container-id-1 {\n",
       "  color: var(--sklearn-color-text);\n",
       "}\n",
       "\n",
       "#sk-container-id-1 pre {\n",
       "  padding: 0;\n",
       "}\n",
       "\n",
       "#sk-container-id-1 input.sk-hidden--visually {\n",
       "  border: 0;\n",
       "  clip: rect(1px 1px 1px 1px);\n",
       "  clip: rect(1px, 1px, 1px, 1px);\n",
       "  height: 1px;\n",
       "  margin: -1px;\n",
       "  overflow: hidden;\n",
       "  padding: 0;\n",
       "  position: absolute;\n",
       "  width: 1px;\n",
       "}\n",
       "\n",
       "#sk-container-id-1 div.sk-dashed-wrapped {\n",
       "  border: 1px dashed var(--sklearn-color-line);\n",
       "  margin: 0 0.4em 0.5em 0.4em;\n",
       "  box-sizing: border-box;\n",
       "  padding-bottom: 0.4em;\n",
       "  background-color: var(--sklearn-color-background);\n",
       "}\n",
       "\n",
       "#sk-container-id-1 div.sk-container {\n",
       "  /* jupyter's `normalize.less` sets `[hidden] { display: none; }`\n",
       "     but bootstrap.min.css set `[hidden] { display: none !important; }`\n",
       "     so we also need the `!important` here to be able to override the\n",
       "     default hidden behavior on the sphinx rendered scikit-learn.org.\n",
       "     See: https://github.com/scikit-learn/scikit-learn/issues/21755 */\n",
       "  display: inline-block !important;\n",
       "  position: relative;\n",
       "}\n",
       "\n",
       "#sk-container-id-1 div.sk-text-repr-fallback {\n",
       "  display: none;\n",
       "}\n",
       "\n",
       "div.sk-parallel-item,\n",
       "div.sk-serial,\n",
       "div.sk-item {\n",
       "  /* draw centered vertical line to link estimators */\n",
       "  background-image: linear-gradient(var(--sklearn-color-text-on-default-background), var(--sklearn-color-text-on-default-background));\n",
       "  background-size: 2px 100%;\n",
       "  background-repeat: no-repeat;\n",
       "  background-position: center center;\n",
       "}\n",
       "\n",
       "/* Parallel-specific style estimator block */\n",
       "\n",
       "#sk-container-id-1 div.sk-parallel-item::after {\n",
       "  content: \"\";\n",
       "  width: 100%;\n",
       "  border-bottom: 2px solid var(--sklearn-color-text-on-default-background);\n",
       "  flex-grow: 1;\n",
       "}\n",
       "\n",
       "#sk-container-id-1 div.sk-parallel {\n",
       "  display: flex;\n",
       "  align-items: stretch;\n",
       "  justify-content: center;\n",
       "  background-color: var(--sklearn-color-background);\n",
       "  position: relative;\n",
       "}\n",
       "\n",
       "#sk-container-id-1 div.sk-parallel-item {\n",
       "  display: flex;\n",
       "  flex-direction: column;\n",
       "}\n",
       "\n",
       "#sk-container-id-1 div.sk-parallel-item:first-child::after {\n",
       "  align-self: flex-end;\n",
       "  width: 50%;\n",
       "}\n",
       "\n",
       "#sk-container-id-1 div.sk-parallel-item:last-child::after {\n",
       "  align-self: flex-start;\n",
       "  width: 50%;\n",
       "}\n",
       "\n",
       "#sk-container-id-1 div.sk-parallel-item:only-child::after {\n",
       "  width: 0;\n",
       "}\n",
       "\n",
       "/* Serial-specific style estimator block */\n",
       "\n",
       "#sk-container-id-1 div.sk-serial {\n",
       "  display: flex;\n",
       "  flex-direction: column;\n",
       "  align-items: center;\n",
       "  background-color: var(--sklearn-color-background);\n",
       "  padding-right: 1em;\n",
       "  padding-left: 1em;\n",
       "}\n",
       "\n",
       "\n",
       "/* Toggleable style: style used for estimator/Pipeline/ColumnTransformer box that is\n",
       "clickable and can be expanded/collapsed.\n",
       "- Pipeline and ColumnTransformer use this feature and define the default style\n",
       "- Estimators will overwrite some part of the style using the `sk-estimator` class\n",
       "*/\n",
       "\n",
       "/* Pipeline and ColumnTransformer style (default) */\n",
       "\n",
       "#sk-container-id-1 div.sk-toggleable {\n",
       "  /* Default theme specific background. It is overwritten whether we have a\n",
       "  specific estimator or a Pipeline/ColumnTransformer */\n",
       "  background-color: var(--sklearn-color-background);\n",
       "}\n",
       "\n",
       "/* Toggleable label */\n",
       "#sk-container-id-1 label.sk-toggleable__label {\n",
       "  cursor: pointer;\n",
       "  display: block;\n",
       "  width: 100%;\n",
       "  margin-bottom: 0;\n",
       "  padding: 0.5em;\n",
       "  box-sizing: border-box;\n",
       "  text-align: center;\n",
       "}\n",
       "\n",
       "#sk-container-id-1 label.sk-toggleable__label-arrow:before {\n",
       "  /* Arrow on the left of the label */\n",
       "  content: \"▸\";\n",
       "  float: left;\n",
       "  margin-right: 0.25em;\n",
       "  color: var(--sklearn-color-icon);\n",
       "}\n",
       "\n",
       "#sk-container-id-1 label.sk-toggleable__label-arrow:hover:before {\n",
       "  color: var(--sklearn-color-text);\n",
       "}\n",
       "\n",
       "/* Toggleable content - dropdown */\n",
       "\n",
       "#sk-container-id-1 div.sk-toggleable__content {\n",
       "  max-height: 0;\n",
       "  max-width: 0;\n",
       "  overflow: hidden;\n",
       "  text-align: left;\n",
       "  /* unfitted */\n",
       "  background-color: var(--sklearn-color-unfitted-level-0);\n",
       "}\n",
       "\n",
       "#sk-container-id-1 div.sk-toggleable__content.fitted {\n",
       "  /* fitted */\n",
       "  background-color: var(--sklearn-color-fitted-level-0);\n",
       "}\n",
       "\n",
       "#sk-container-id-1 div.sk-toggleable__content pre {\n",
       "  margin: 0.2em;\n",
       "  border-radius: 0.25em;\n",
       "  color: var(--sklearn-color-text);\n",
       "  /* unfitted */\n",
       "  background-color: var(--sklearn-color-unfitted-level-0);\n",
       "}\n",
       "\n",
       "#sk-container-id-1 div.sk-toggleable__content.fitted pre {\n",
       "  /* unfitted */\n",
       "  background-color: var(--sklearn-color-fitted-level-0);\n",
       "}\n",
       "\n",
       "#sk-container-id-1 input.sk-toggleable__control:checked~div.sk-toggleable__content {\n",
       "  /* Expand drop-down */\n",
       "  max-height: 200px;\n",
       "  max-width: 100%;\n",
       "  overflow: auto;\n",
       "}\n",
       "\n",
       "#sk-container-id-1 input.sk-toggleable__control:checked~label.sk-toggleable__label-arrow:before {\n",
       "  content: \"▾\";\n",
       "}\n",
       "\n",
       "/* Pipeline/ColumnTransformer-specific style */\n",
       "\n",
       "#sk-container-id-1 div.sk-label input.sk-toggleable__control:checked~label.sk-toggleable__label {\n",
       "  color: var(--sklearn-color-text);\n",
       "  background-color: var(--sklearn-color-unfitted-level-2);\n",
       "}\n",
       "\n",
       "#sk-container-id-1 div.sk-label.fitted input.sk-toggleable__control:checked~label.sk-toggleable__label {\n",
       "  background-color: var(--sklearn-color-fitted-level-2);\n",
       "}\n",
       "\n",
       "/* Estimator-specific style */\n",
       "\n",
       "/* Colorize estimator box */\n",
       "#sk-container-id-1 div.sk-estimator input.sk-toggleable__control:checked~label.sk-toggleable__label {\n",
       "  /* unfitted */\n",
       "  background-color: var(--sklearn-color-unfitted-level-2);\n",
       "}\n",
       "\n",
       "#sk-container-id-1 div.sk-estimator.fitted input.sk-toggleable__control:checked~label.sk-toggleable__label {\n",
       "  /* fitted */\n",
       "  background-color: var(--sklearn-color-fitted-level-2);\n",
       "}\n",
       "\n",
       "#sk-container-id-1 div.sk-label label.sk-toggleable__label,\n",
       "#sk-container-id-1 div.sk-label label {\n",
       "  /* The background is the default theme color */\n",
       "  color: var(--sklearn-color-text-on-default-background);\n",
       "}\n",
       "\n",
       "/* On hover, darken the color of the background */\n",
       "#sk-container-id-1 div.sk-label:hover label.sk-toggleable__label {\n",
       "  color: var(--sklearn-color-text);\n",
       "  background-color: var(--sklearn-color-unfitted-level-2);\n",
       "}\n",
       "\n",
       "/* Label box, darken color on hover, fitted */\n",
       "#sk-container-id-1 div.sk-label.fitted:hover label.sk-toggleable__label.fitted {\n",
       "  color: var(--sklearn-color-text);\n",
       "  background-color: var(--sklearn-color-fitted-level-2);\n",
       "}\n",
       "\n",
       "/* Estimator label */\n",
       "\n",
       "#sk-container-id-1 div.sk-label label {\n",
       "  font-family: monospace;\n",
       "  font-weight: bold;\n",
       "  display: inline-block;\n",
       "  line-height: 1.2em;\n",
       "}\n",
       "\n",
       "#sk-container-id-1 div.sk-label-container {\n",
       "  text-align: center;\n",
       "}\n",
       "\n",
       "/* Estimator-specific */\n",
       "#sk-container-id-1 div.sk-estimator {\n",
       "  font-family: monospace;\n",
       "  border: 1px dotted var(--sklearn-color-border-box);\n",
       "  border-radius: 0.25em;\n",
       "  box-sizing: border-box;\n",
       "  margin-bottom: 0.5em;\n",
       "  /* unfitted */\n",
       "  background-color: var(--sklearn-color-unfitted-level-0);\n",
       "}\n",
       "\n",
       "#sk-container-id-1 div.sk-estimator.fitted {\n",
       "  /* fitted */\n",
       "  background-color: var(--sklearn-color-fitted-level-0);\n",
       "}\n",
       "\n",
       "/* on hover */\n",
       "#sk-container-id-1 div.sk-estimator:hover {\n",
       "  /* unfitted */\n",
       "  background-color: var(--sklearn-color-unfitted-level-2);\n",
       "}\n",
       "\n",
       "#sk-container-id-1 div.sk-estimator.fitted:hover {\n",
       "  /* fitted */\n",
       "  background-color: var(--sklearn-color-fitted-level-2);\n",
       "}\n",
       "\n",
       "/* Specification for estimator info (e.g. \"i\" and \"?\") */\n",
       "\n",
       "/* Common style for \"i\" and \"?\" */\n",
       "\n",
       ".sk-estimator-doc-link,\n",
       "a:link.sk-estimator-doc-link,\n",
       "a:visited.sk-estimator-doc-link {\n",
       "  float: right;\n",
       "  font-size: smaller;\n",
       "  line-height: 1em;\n",
       "  font-family: monospace;\n",
       "  background-color: var(--sklearn-color-background);\n",
       "  border-radius: 1em;\n",
       "  height: 1em;\n",
       "  width: 1em;\n",
       "  text-decoration: none !important;\n",
       "  margin-left: 1ex;\n",
       "  /* unfitted */\n",
       "  border: var(--sklearn-color-unfitted-level-1) 1pt solid;\n",
       "  color: var(--sklearn-color-unfitted-level-1);\n",
       "}\n",
       "\n",
       ".sk-estimator-doc-link.fitted,\n",
       "a:link.sk-estimator-doc-link.fitted,\n",
       "a:visited.sk-estimator-doc-link.fitted {\n",
       "  /* fitted */\n",
       "  border: var(--sklearn-color-fitted-level-1) 1pt solid;\n",
       "  color: var(--sklearn-color-fitted-level-1);\n",
       "}\n",
       "\n",
       "/* On hover */\n",
       "div.sk-estimator:hover .sk-estimator-doc-link:hover,\n",
       ".sk-estimator-doc-link:hover,\n",
       "div.sk-label-container:hover .sk-estimator-doc-link:hover,\n",
       ".sk-estimator-doc-link:hover {\n",
       "  /* unfitted */\n",
       "  background-color: var(--sklearn-color-unfitted-level-3);\n",
       "  color: var(--sklearn-color-background);\n",
       "  text-decoration: none;\n",
       "}\n",
       "\n",
       "div.sk-estimator.fitted:hover .sk-estimator-doc-link.fitted:hover,\n",
       ".sk-estimator-doc-link.fitted:hover,\n",
       "div.sk-label-container:hover .sk-estimator-doc-link.fitted:hover,\n",
       ".sk-estimator-doc-link.fitted:hover {\n",
       "  /* fitted */\n",
       "  background-color: var(--sklearn-color-fitted-level-3);\n",
       "  color: var(--sklearn-color-background);\n",
       "  text-decoration: none;\n",
       "}\n",
       "\n",
       "/* Span, style for the box shown on hovering the info icon */\n",
       ".sk-estimator-doc-link span {\n",
       "  display: none;\n",
       "  z-index: 9999;\n",
       "  position: relative;\n",
       "  font-weight: normal;\n",
       "  right: .2ex;\n",
       "  padding: .5ex;\n",
       "  margin: .5ex;\n",
       "  width: min-content;\n",
       "  min-width: 20ex;\n",
       "  max-width: 50ex;\n",
       "  color: var(--sklearn-color-text);\n",
       "  box-shadow: 2pt 2pt 4pt #999;\n",
       "  /* unfitted */\n",
       "  background: var(--sklearn-color-unfitted-level-0);\n",
       "  border: .5pt solid var(--sklearn-color-unfitted-level-3);\n",
       "}\n",
       "\n",
       ".sk-estimator-doc-link.fitted span {\n",
       "  /* fitted */\n",
       "  background: var(--sklearn-color-fitted-level-0);\n",
       "  border: var(--sklearn-color-fitted-level-3);\n",
       "}\n",
       "\n",
       ".sk-estimator-doc-link:hover span {\n",
       "  display: block;\n",
       "}\n",
       "\n",
       "/* \"?\"-specific style due to the `<a>` HTML tag */\n",
       "\n",
       "#sk-container-id-1 a.estimator_doc_link {\n",
       "  float: right;\n",
       "  font-size: 1rem;\n",
       "  line-height: 1em;\n",
       "  font-family: monospace;\n",
       "  background-color: var(--sklearn-color-background);\n",
       "  border-radius: 1rem;\n",
       "  height: 1rem;\n",
       "  width: 1rem;\n",
       "  text-decoration: none;\n",
       "  /* unfitted */\n",
       "  color: var(--sklearn-color-unfitted-level-1);\n",
       "  border: var(--sklearn-color-unfitted-level-1) 1pt solid;\n",
       "}\n",
       "\n",
       "#sk-container-id-1 a.estimator_doc_link.fitted {\n",
       "  /* fitted */\n",
       "  border: var(--sklearn-color-fitted-level-1) 1pt solid;\n",
       "  color: var(--sklearn-color-fitted-level-1);\n",
       "}\n",
       "\n",
       "/* On hover */\n",
       "#sk-container-id-1 a.estimator_doc_link:hover {\n",
       "  /* unfitted */\n",
       "  background-color: var(--sklearn-color-unfitted-level-3);\n",
       "  color: var(--sklearn-color-background);\n",
       "  text-decoration: none;\n",
       "}\n",
       "\n",
       "#sk-container-id-1 a.estimator_doc_link.fitted:hover {\n",
       "  /* fitted */\n",
       "  background-color: var(--sklearn-color-fitted-level-3);\n",
       "}\n",
       "</style><div id=\"sk-container-id-1\" class=\"sk-top-container\"><div class=\"sk-text-repr-fallback\"><pre>PCA(n_components=768)</pre><b>In a Jupyter environment, please rerun this cell to show the HTML representation or trust the notebook. <br />On GitHub, the HTML representation is unable to render, please try loading this page with nbviewer.org.</b></div><div class=\"sk-container\" hidden><div class=\"sk-item\"><div class=\"sk-estimator fitted sk-toggleable\"><input class=\"sk-toggleable__control sk-hidden--visually\" id=\"sk-estimator-id-1\" type=\"checkbox\" checked><label for=\"sk-estimator-id-1\" class=\"sk-toggleable__label fitted sk-toggleable__label-arrow fitted\">&nbsp;&nbsp;PCA<a class=\"sk-estimator-doc-link fitted\" rel=\"noreferrer\" target=\"_blank\" href=\"https://scikit-learn.org/1.5/modules/generated/sklearn.decomposition.PCA.html\">?<span>Documentation for PCA</span></a><span class=\"sk-estimator-doc-link fitted\">i<span>Fitted</span></span></label><div class=\"sk-toggleable__content fitted\"><pre>PCA(n_components=768)</pre></div> </div></div></div></div>"
      ],
      "text/plain": [
       "PCA(n_components=768)"
      ]
     },
     "execution_count": 8,
     "metadata": {},
     "output_type": "execute_result"
    }
   ],
   "source": [
    "pca = PCA(n_components=768)\n",
    "pca.fit(vs)"
   ]
  },
  {
   "cell_type": "markdown",
   "id": "d863aa64-fbaa-4226-94b8-36d6b6b1789a",
   "metadata": {},
   "source": [
    "## Semantic Meaning"
   ]
  },
  {
   "cell_type": "code",
   "execution_count": 9,
   "id": "ec06466e-a876-4c9e-ad00-33b1734883a5",
   "metadata": {},
   "outputs": [],
   "source": [
    "# compute vector norms\n",
    "most_common_word_norms = np.array([np.linalg.norm(v) for v in wvs])"
   ]
  },
  {
   "cell_type": "code",
   "execution_count": 10,
   "id": "0a638056-93b7-4da2-b268-e45b5535891a",
   "metadata": {},
   "outputs": [],
   "source": [
    "n_words = 30\n",
    "most_common_word_norms = np.array([np.linalg.norm(v) for v in wvs])\n",
    "\n",
    "def meaning_plot(v):\n",
    "    dot_similarities = v @ wvs.T / most_common_word_norms\n",
    "    softmax_similarities = np.exp(dot_similarities) / np.sum(np.exp(dot_similarities), axis=0)\n",
    "    sorted_idx = np.argsort(-softmax_similarities)\n",
    "    return px.bar(x=most_common_words[sorted_idx][:n_words], y=softmax_similarities[sorted_idx][:n_words])"
   ]
  },
  {
   "cell_type": "markdown",
   "id": "37af6b4d-0613-4496-b4fd-787281ee3c95",
   "metadata": {},
   "source": [
    "## KL Divergence"
   ]
  },
  {
   "cell_type": "markdown",
   "id": "ca082311-d3c3-4f4c-9d98-5bb2c75119ce",
   "metadata": {},
   "source": [
    "Given the invariant measure $m(x)$ as the distribution of word embeddings (as defined here: https://en.wikipedia.org/wiki/Limiting_density_of_discrete_points), and $p(x)$ as the dataset of papers, what is the information gained about the papers from comparing the distributions: $H(X) = - D_{KL}(P || M)$?"
   ]
  },
  {
   "cell_type": "markdown",
   "id": "ca7cf2f7-bd7b-47fb-81cc-f09255e2ee23",
   "metadata": {},
   "source": [
    "Capture the approximate shape of both the distribution of words and papers with a joint gaussian model, which captures the variances in each dimension and covariances between them, assuming a gaussian relationship."
   ]
  },
  {
   "cell_type": "code",
   "execution_count": 11,
   "id": "cb7ec4f6-dd0e-45a8-bcb0-dcf06e05b781",
   "metadata": {},
   "outputs": [],
   "source": [
    "word_covariance_matrix = np.cov(wvs.T)"
   ]
  },
  {
   "cell_type": "code",
   "execution_count": 12,
   "id": "b7893823-268b-4a8a-b435-a13d10678b7d",
   "metadata": {},
   "outputs": [],
   "source": [
    "# extract only the variance - this is a quick and dirty way to remove many parameters, and \"cheat\" the distribution into a much broader more general one\n",
    "word_covariance_matrix = np.diag(np.diagonal(word_covariance_matrix))"
   ]
  },
  {
   "cell_type": "code",
   "execution_count": 13,
   "id": "d1370222-f8ce-4d6c-a530-878db06056c0",
   "metadata": {},
   "outputs": [],
   "source": [
    "paper_covariance_matrix = np.cov(vs.T)"
   ]
  },
  {
   "cell_type": "code",
   "execution_count": 14,
   "id": "215fe6d6-c7a7-482c-992e-f26bdbd96ac0",
   "metadata": {},
   "outputs": [],
   "source": [
    "word_inv_cov = np.linalg.inv(word_covariance_matrix)\n",
    "_, word_log_det_cov = np.linalg.slogdet(word_covariance_matrix)"
   ]
  },
  {
   "cell_type": "code",
   "execution_count": 15,
   "id": "960460d0-ff0f-435b-a78d-834b46983061",
   "metadata": {},
   "outputs": [],
   "source": [
    "paper_inv_cov = np.linalg.inv(paper_covariance_matrix)\n",
    "_, paper_log_det_cov = np.linalg.slogdet(paper_covariance_matrix)"
   ]
  },
  {
   "cell_type": "code",
   "execution_count": 18,
   "id": "7221b0f7-993b-4f6d-91b6-4a1785bf96a1",
   "metadata": {},
   "outputs": [],
   "source": [
    "kl_divergence = 0.5 * (\n",
    "    np.trace(word_inv_cov @ paper_covariance_matrix) + (np.mean(wvs, axis=0) - np.mean(vs, axis=0)).T @ word_inv_cov @ (np.mean(wvs, axis=0) - np.mean(vs, axis=0)) - paper_covariance_matrix.shape[0] + paper_log_det_cov - word_log_det_cov\n",
    ") * np.log2(np.e)  # compute the total KL Divergence, and convert to bits"
   ]
  },
  {
   "cell_type": "code",
   "execution_count": 24,
   "id": "bc2355f4-bc82-41e7-8a8a-f334320f5858",
   "metadata": {},
   "outputs": [
    {
     "name": "stdout",
     "output_type": "stream",
     "text": [
      "Total KL Divergence: -887.4033216100204 bits\n"
     ]
    }
   ],
   "source": [
    "print(\"Total KL Divergence:\", kl_divergence, \"bits\")"
   ]
  },
  {
   "cell_type": "code",
   "execution_count": 19,
   "id": "242c75ea-9783-4161-802c-3b09f70dc8b8",
   "metadata": {},
   "outputs": [],
   "source": [
    "def multivariance_log_likelihood(x, inverse, log_determinant):\n",
    "    k = inverse.shape[0]\n",
    "    return -0.5 * k * np.log(2 * np.pi) - 0.5 * log_determinant - 0.5 * x.T @ inverse @ x"
   ]
  },
  {
   "cell_type": "markdown",
   "id": "7804cab0-5cd7-4ce4-9240-5b72ce04a3d3",
   "metadata": {},
   "source": [
    "#### Projected PCA Distribution Plot"
   ]
  },
  {
   "cell_type": "code",
   "execution_count": 20,
   "id": "0a87a175-3443-4aa0-82bb-d03491697724",
   "metadata": {},
   "outputs": [],
   "source": [
    "N = 50\n",
    "\n",
    "def plot_pca_pdfs(dims):\n",
    "    # Project into relevant dimensions:\n",
    "    projection_matrix = pca.components_[dims]\n",
    "    projected_mean_paper = projection_matrix @ np.mean(vs, axis=0)\n",
    "    projected_cov_paper = projection_matrix @ paper_covariance_matrix @ projection_matrix.T\n",
    "    projected_mean_word = projection_matrix @ np.mean(wvs, axis=0)\n",
    "    projected_cov_word = projection_matrix @ word_covariance_matrix @ projection_matrix.T\n",
    "    \n",
    "    # Find limits\n",
    "    lims = np.maximum(\n",
    "        np.max(np.abs(projected_mean_paper) + 2 * np.sqrt(np.diagonal(projected_cov_paper))),\n",
    "        np.max(np.abs(projected_mean_word) + 2 * np.sqrt(np.diagonal(projected_cov_word))) \n",
    "    )\n",
    "\n",
    "    # Create grid sampling:\n",
    "    x = np.linspace(-lims, lims, N)\n",
    "    y = np.linspace(-lims, lims, N)\n",
    "    cov = projected_cov_paper\n",
    "    icov = np.linalg.inv(cov)\n",
    "    _, ldcov = np.linalg.slogdet(cov)\n",
    "    covw = projected_cov_word\n",
    "    icovw = np.linalg.inv(covw)\n",
    "    _, ldcovw = np.linalg.slogdet(covw)\n",
    "    \n",
    "    kl_divergence = 0.5 * (\n",
    "        np.trace(icovw @ cov) + (projected_mean_word - projected_mean_paper).T @ icovw @ (projected_mean_word - projected_mean_paper) - cov.shape[0] + ldcov - ldcovw\n",
    "    ) * np.log2(np.e)\n",
    "\n",
    "    # Compute PDFs:\n",
    "    \n",
    "    z_paper = np.array([np.exp(multivariance_log_likelihood(np.array(v) - projected_mean_paper, icov, ldcov)) for v in itertools.product(x, y)]).reshape(N, N)\n",
    "    z_word = np.array([np.exp(multivariance_log_likelihood(np.array(v) - projected_mean_word, icovw, ldcovw)) for v in itertools.product(x, y)]).reshape(N, N)\n",
    "\n",
    "    # Plot surfaces:\n",
    "    fig = go.Figure([go.Surface(x=x, y=y, z=z_paper, opacity=0.5, colorscale=[[0, 'red'], [1, 'red']], showscale=False),\n",
    "               go.Surface(x=x, y=y, z=z_word, opacity=0.5, colorscale=[[0, 'blue'], [1, 'blue']], showscale=False),\n",
    "              ]).update_layout(height=1000, scene_zaxis_title=\"Probability Density\", scene_zaxis_range=[0, max(min(np.max(z_word) * 3, np.max(z_paper)), np.max(z_word))],\n",
    "                              title=f\"PCA Dimensions: {dims}, Marginal KL Divergence: {kl_divergence} bits\")\n",
    "    \n",
    "    # Add annotations for a legend-like effect\n",
    "    fig.add_trace(go.Scatter3d(\n",
    "        x=[0], y=[0], z=[0], \n",
    "        mode='lines',\n",
    "        marker=dict(size=10, color='blue'),\n",
    "        showlegend=True,\n",
    "        name='Neutral Distribution'\n",
    "    ))\n",
    "    \n",
    "    fig.add_trace(go.Scatter3d(\n",
    "        x=[0], y=[0], z=[0], \n",
    "        mode='lines',\n",
    "        marker=dict(size=10, color='red'),\n",
    "        showlegend=True,\n",
    "        name='ML Paper Distribution'\n",
    "    ))\n",
    "\n",
    "    return fig"
   ]
  },
  {
   "cell_type": "markdown",
   "id": "f72b7f4f-55e4-47e2-8c9e-ecd416ac652f",
   "metadata": {},
   "source": [
    "### Compute Projected KL Divergences"
   ]
  },
  {
   "cell_type": "code",
   "execution_count": 21,
   "id": "96a14fcb-a394-43e5-93a7-71ab0588a64b",
   "metadata": {},
   "outputs": [],
   "source": [
    "def get_projected_kl_divergence(dims):\n",
    "    # Project into relevant dimensions:\n",
    "    projection_matrix = pca.components_[dims]\n",
    "    projected_mean_paper = projection_matrix @ np.mean(vs, axis=0)\n",
    "    projected_cov_paper = projection_matrix @ paper_covariance_matrix @ projection_matrix.T\n",
    "    projected_mean_word = projection_matrix @ np.mean(wvs, axis=0)\n",
    "    projected_cov_word = projection_matrix @ word_covariance_matrix @ projection_matrix.T\n",
    "    \n",
    "    # Find limits\n",
    "    lims = np.maximum(\n",
    "        np.max(np.abs(projected_mean_paper) + 2 * np.sqrt(np.diagonal(projected_cov_paper))),\n",
    "        np.max(np.abs(projected_mean_word) + 2 * np.sqrt(np.diagonal(projected_cov_word))) \n",
    "    )\n",
    "\n",
    "    # Create grid sampling:\n",
    "    x = np.linspace(-lims, lims, N)\n",
    "    y = np.linspace(-lims, lims, N)\n",
    "    cov = projected_cov_paper\n",
    "    icov = np.linalg.inv(cov)\n",
    "    _, ldcov = np.linalg.slogdet(cov)\n",
    "    covw = projected_cov_word\n",
    "    icovw = np.linalg.inv(covw)\n",
    "    _, ldcovw = np.linalg.slogdet(covw)\n",
    "\n",
    "    return 0.5 * (\n",
    "        np.trace(icovw @ cov) + (projected_mean_word - projected_mean_paper).T @ icovw @ (projected_mean_word - projected_mean_paper) - cov.shape[0] + ldcov - ldcovw\n",
    "    ) * np.log2(np.e)"
   ]
  },
  {
   "cell_type": "code",
   "execution_count": 22,
   "id": "b7e0646c-b2b3-40f1-831d-2f965d251c18",
   "metadata": {},
   "outputs": [],
   "source": [
    "marginal_kl_divergences = [get_projected_kl_divergence([i]) for i in range(pca.n_components)]"
   ]
  },
  {
   "cell_type": "markdown",
   "id": "28943eae-0e18-482c-bafe-be5bf3c5adca",
   "metadata": {},
   "source": [
    "# Flask Front End"
   ]
  },
  {
   "cell_type": "code",
   "execution_count": 23,
   "id": "e1ba459e-20c7-440c-bd98-f022c9ee7ca4",
   "metadata": {},
   "outputs": [
    {
     "name": "stdout",
     "output_type": "stream",
     "text": [
      " * Serving Flask app '__main__'\n",
      " * Debug mode: off\n"
     ]
    },
    {
     "name": "stderr",
     "output_type": "stream",
     "text": [
      "WARNING: This is a development server. Do not use it in a production deployment. Use a production WSGI server instead.\n",
      " * Running on http://127.0.0.1:5000\n",
      "Press CTRL+C to quit\n",
      "127.0.0.1 - - [22/Jun/2024 17:13:49] \"GET / HTTP/1.1\" 200 -\n",
      "127.0.0.1 - - [22/Jun/2024 17:13:54] \"GET /plot_distribution?dataset1=5&dataset2=0 HTTP/1.1\" 200 -\n",
      "127.0.0.1 - - [22/Jun/2024 17:13:54] \"GET /plot?dataset=5 HTTP/1.1\" 200 -\n",
      "127.0.0.1 - - [22/Jun/2024 17:13:58] \"GET /plot?dataset=8 HTTP/1.1\" 200 -\n",
      "127.0.0.1 - - [22/Jun/2024 17:13:58] \"GET /plot_distribution?dataset1=5&dataset2=8 HTTP/1.1\" 200 -\n",
      "127.0.0.1 - - [22/Jun/2024 17:15:00] \"GET /plot?dataset=550 HTTP/1.1\" 200 -\n",
      "127.0.0.1 - - [22/Jun/2024 17:15:00] \"GET /plot_distribution?dataset1=550&dataset2=500 HTTP/1.1\" 200 -\n",
      "127.0.0.1 - - [22/Jun/2024 17:15:01] \"GET /plot?dataset=500 HTTP/1.1\" 200 -\n",
      "127.0.0.1 - - [22/Jun/2024 17:15:01] \"GET /plot_distribution?dataset1=550&dataset2=500 HTTP/1.1\" 200 -\n"
     ]
    }
   ],
   "source": [
    "from flask import Flask, render_template_string, jsonify, request\n",
    "import plotly.graph_objs as go\n",
    "from threading import Thread, Event\n",
    "\n",
    "app = Flask(__name__)\n",
    "stop_event = Event()\n",
    "\n",
    "@app.route('/')\n",
    "def index():\n",
    "    return render_template_string('''\n",
    "        <!DOCTYPE html>\n",
    "        <html lang=\"en\">\n",
    "        <head>\n",
    "            <meta charset=\"UTF-8\">\n",
    "            <title>Plotly in Flask</title>\n",
    "            <script src=\"https://cdn.plot.ly/plotly-latest.min.js\"></script>\n",
    "            <style>\n",
    "                .container {\n",
    "                    display: flex;\n",
    "                    justify-content: space-around;\n",
    "                }\n",
    "                .left-column, .right-column {\n",
    "                    width: 45%;\n",
    "                    margin-bottom: 20px;\n",
    "                }\n",
    "                .plot-container {\n",
    "                    width: 100%;\n",
    "                }\n",
    "                .plot {\n",
    "                    width: 100%;\n",
    "                    margin-bottom: 20px;\n",
    "                }\n",
    "                table {\n",
    "                    width: 100%;\n",
    "                    border-collapse: collapse;\n",
    "                    margin-bottom: 20px;\n",
    "                }\n",
    "                th, td {\n",
    "                    border: 1px solid black;\n",
    "                    padding: 8px;\n",
    "                    text-align: left;\n",
    "                }\n",
    "                th {\n",
    "                    background-color: #f2f2f2;\n",
    "                }\n",
    "            </style>\n",
    "        </head>\n",
    "        <body>\n",
    "            <h1>Embedding Entropy Analysis</h1>\n",
    "            <div class=\"container\">\n",
    "                <div class=\"left-column\">\n",
    "                    <h2>PCA of ML Paper Embeddings</h2>\n",
    "                    <table>\n",
    "                        <tr>\n",
    "                            {% for col in columns %}\n",
    "                            <th>{{ col }}</th>\n",
    "                            {% endfor %}\n",
    "                        </tr>\n",
    "                        {% for row in table_dataset %}\n",
    "                        <tr>\n",
    "                            {% for col in columns %}\n",
    "                            <td>{{ row[col] }}</td>\n",
    "                            {% endfor %}\n",
    "                        </tr>\n",
    "                        {% endfor %}\n",
    "                    </table>\n",
    "                </div>\n",
    "                <div class=\"right-column\">\n",
    "                    <div class=\"plot-container\">\n",
    "                        <div class=\"plot\">\n",
    "                            <label for=\"datasetInput1\">PCA Dimension x:</label>\n",
    "                            <input type=\"text\" id=\"datasetInput1\">\n",
    "                            <button onclick=\"submitDataset(1)\">Plot</button>\n",
    "                            <div id=\"plot1\"></div>\n",
    "                        </div>\n",
    "                        <div class=\"plot\">\n",
    "                            <label for=\"datasetInput2\">PCA Dimension y:</label>\n",
    "                            <input type=\"text\" id=\"datasetInput2\">\n",
    "                            <button onclick=\"submitDataset(2)\">Plot</button>\n",
    "                            <div id=\"plot2\"></div>\n",
    "                        </div>\n",
    "                        <div class=\"plot\">\n",
    "                            <div id=\"plot3\"></div>\n",
    "                        </div>\n",
    "                    </div>\n",
    "                </div>\n",
    "            </div>\n",
    "            <script>\n",
    "                var graphDiv1 = document.getElementById('plot1');\n",
    "                var graphDiv2 = document.getElementById('plot2');\n",
    "                var graphDiv3 = document.getElementById('plot3');\n",
    "                var hasPlot1 = false;\n",
    "                var hasPlot2 = false;\n",
    "                var hasPlot3 = false;\n",
    "\n",
    "                function fetchPlot(dataset, plotDiv) {\n",
    "                    fetch(`/plot?dataset=${dataset}`)\n",
    "                        .then(response => response.json())\n",
    "                        .then(data => {\n",
    "                            var parsedData = JSON.parse(data);\n",
    "                            if (plotDiv === 'plot1') {\n",
    "                                if (hasPlot1) {\n",
    "                                    Plotly.react(graphDiv1, parsedData.data, parsedData.layout);\n",
    "                                } else {\n",
    "                                    Plotly.newPlot(graphDiv1, parsedData.data, parsedData.layout);\n",
    "                                    hasPlot1 = true;\n",
    "                                }\n",
    "                            } else if (plotDiv === 'plot2') {\n",
    "                                if (hasPlot2) {\n",
    "                                    Plotly.react(graphDiv2, parsedData.data, parsedData.layout);\n",
    "                                } else {\n",
    "                                    Plotly.newPlot(graphDiv2, parsedData.data, parsedData.layout);\n",
    "                                    hasPlot2 = true;\n",
    "                                }\n",
    "                            }\n",
    "                        })\n",
    "                        .catch(error => console.error('Error:', error));\n",
    "                }\n",
    "\n",
    "                function fetchPlotDistribution(dataset1, dataset2) {\n",
    "                    fetch(`/plot_distribution?dataset1=${dataset1}&dataset2=${dataset2}`)\n",
    "                        .then(response => response.json())\n",
    "                        .then(data => {\n",
    "                            var parsedData = JSON.parse(data);\n",
    "                            if (hasPlot3) {\n",
    "                                Plotly.react(graphDiv3, parsedData.data, parsedData.layout);\n",
    "                            } else {\n",
    "                                Plotly.newPlot(graphDiv3, parsedData.data, parsedData.layout);\n",
    "                                hasPlot3 = true;\n",
    "                            }\n",
    "                        })\n",
    "                        .catch(error => console.error('Error:', error));\n",
    "                }\n",
    "\n",
    "                function submitDataset(dataset) {\n",
    "                    var datasetValue = parseFloat(document.getElementById(`datasetInput${dataset}`).value) || 0;\n",
    "                    var plotDiv = `plot${dataset}`;\n",
    "                    fetchPlot(datasetValue, plotDiv);\n",
    "                    if (dataset === 1 || dataset === 2) {\n",
    "                        updateCombinedPlot();\n",
    "                    }\n",
    "                }\n",
    "\n",
    "                function updateCombinedPlot() {\n",
    "                    var dataset1 = parseFloat(document.getElementById('datasetInput1').value) || 0;\n",
    "                    var dataset2 = parseFloat(document.getElementById('datasetInput2').value) || 0;\n",
    "                    fetchPlotDistribution(dataset1, dataset2);\n",
    "                }\n",
    "\n",
    "                // Initial plots (optional)\n",
    "                // fetchPlot(1, 'plot1');\n",
    "                // fetchPlot(2, 'plot2');\n",
    "            </script>\n",
    "        </body>\n",
    "        </html>\n",
    "    ''', table_dataset=[{\"Dimension\": d, \"Explained Variance\": ev, \"KL Divergence\": kld} for d, ev, kld in zip(np.arange(pca.n_components), pca.explained_variance_, marginal_kl_divergences)],\n",
    "         columns=[\"Dimension\", \"Explained Variance\", \"KL Divergence\"])\n",
    "\n",
    "@app.route('/plot')\n",
    "def plot():\n",
    "    dataset = request.args.get('dataset', '1')  # Ensure dataset is a string\n",
    "    fig = meaning_plot(pca.components_[int(dataset)])\n",
    "    graphJSON = fig.to_json()  # Convert the figure to JSON format\n",
    "    return jsonify(graphJSON)\n",
    "\n",
    "@app.route('/plot_distribution')\n",
    "def plot_distribution():\n",
    "    pca_dim_1 = float(request.args.get('dataset1', '0'))\n",
    "    pca_dim_2 = float(request.args.get('dataset2', '0'))\n",
    "    fig = plot_pca_pdfs([int(pca_dim_1), int(pca_dim_2)])\n",
    "    graphJSON = fig.to_json()  # Convert the figure to JSON format\n",
    "    return jsonify(graphJSON)\n",
    "\n",
    "@app.route('/stop')\n",
    "def stop():\n",
    "    stop_event.set()\n",
    "    return 'Server stopping...'\n",
    "\n",
    "def run_app():\n",
    "    app.run(port=5000, use_reloader=False)\n",
    "\n",
    "run_app()"
   ]
  }
 ],
 "metadata": {
  "kernelspec": {
   "display_name": "Python 3 (ipykernel)",
   "language": "python",
   "name": "python3"
  },
  "language_info": {
   "codemirror_mode": {
    "name": "ipython",
    "version": 3
   },
   "file_extension": ".py",
   "mimetype": "text/x-python",
   "name": "python",
   "nbconvert_exporter": "python",
   "pygments_lexer": "ipython3",
   "version": "3.11.0"
  }
 },
 "nbformat": 4,
 "nbformat_minor": 5
}
